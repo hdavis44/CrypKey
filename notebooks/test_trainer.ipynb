{
 "cells": [
  {
   "cell_type": "code",
   "execution_count": 32,
   "id": "97ceca42",
   "metadata": {},
   "outputs": [
    {
     "name": "stdout",
     "output_type": "stream",
     "text": [
      "The autoreload extension is already loaded. To reload it, use:\n",
      "  %reload_ext autoreload\n"
     ]
    }
   ],
   "source": [
    "%load_ext autoreload\n",
    "%autoreload 2"
   ]
  },
  {
   "cell_type": "code",
   "execution_count": 33,
   "id": "e0829050",
   "metadata": {},
   "outputs": [],
   "source": [
    "from os import pipe\n",
    "from detecting_fake_news.data import get_local_data, get_cloud_data\n",
    "from detecting_fake_news.preprocessing import TextPreprocessor\n",
    "from detecting_fake_news.params import BUCKET_NAME, BUCKET_TRAIN_DATA_PATH, LOCAL_TRAIN_DATA_PATH\n",
    "from sklearn.model_selection import train_test_split\n",
    "from sklearn.feature_extraction.text import CountVectorizer, TfidfVectorizer\n",
    "from sklearn.naive_bayes import MultinomialNB\n",
    "from sklearn.metrics import accuracy_score\n",
    "from sklearn.pipeline import Pipeline\n",
    "import joblib\n",
    "from termcolor import colored"
   ]
  },
  {
   "cell_type": "code",
   "execution_count": 34,
   "id": "71cbfffb",
   "metadata": {},
   "outputs": [],
   "source": [
    "%reload_ext autoreload"
   ]
  },
  {
   "cell_type": "code",
   "execution_count": 29,
   "id": "80d676e4",
   "metadata": {},
   "outputs": [],
   "source": [
    "### TODO:\n",
    "\n",
    "# add MLFlow functionality?\n",
    "\n",
    "# create Trainer class with a pipeline attribute\n",
    "#   class methods:\n",
    "#       set_pipeline\n",
    "#       run--sets and fits to pipeline\n",
    "#       evaluate--evaluates on test data and returns accuracy"
   ]
  },
  {
   "cell_type": "code",
   "execution_count": 35,
   "id": "b8c06de1",
   "metadata": {},
   "outputs": [],
   "source": [
    "class Trainer(object):\n",
    "    def __init__(self, X_col, y_col):\n",
    "        self.X_col = X_col\n",
    "        self.y_col = y_col\n",
    "        self.pipe = None\n",
    "        self.model = None\n",
    "\n",
    "    def set_pipeline(self):\n",
    "        '''resets self.pipe and self.model to None then sets self.pipe'''\n",
    "        self.pipe = None\n",
    "        self.model = None\n",
    "        pipe = Pipeline([\n",
    "            ('vectorizer', TfidfVectorizer(ngram_range=(2, 2))),\n",
    "            ('nbmodel', MultinomialNB())])\n",
    "        self.pipe = pipe\n",
    "\n",
    "    def run(self, df):\n",
    "        '''accepts a dataframe; preprocesses and splits data into train/test;\n",
    "           fits a pipeline to X_train, y_train; evaluates on X_test, y_test;\n",
    "           prints an accuracy score'''\n",
    "        print(\"dropping rows of empty text\")\n",
    "        df = df.dropna(subset=[self.X_col])\n",
    "        X = df[self.X_col]\n",
    "        y = df[self.y_col]\n",
    "        print(\"preprocessing data\")\n",
    "        preproc = TextPreprocessor()\n",
    "        X_clean = preproc.transform(X)\n",
    "        X_train, X_test, y_train, y_test = train_test_split(X_clean,\n",
    "                                                            y,\n",
    "                                                            test_size=0.25)\n",
    "        print(\"setting pipeline\")\n",
    "        self.set_pipeline()\n",
    "        print(\"vectorizing data and fitting model\")\n",
    "        self.model = self.pipe.fit(X_train, y_train)\n",
    "        print(\"evaluating on test data\")\n",
    "        self.evaluate(X_test, y_test)\n",
    "\n",
    "    def save_model_locally(self, model):\n",
    "        '''save the model into a .joblib format'''\n",
    "        joblib.dump(model, 'model.joblib')\n",
    "        print(colored(\"model.joblib saved locally\", \"green\"))\n",
    "\n",
    "    def evaluate(self, X_test, y_test):\n",
    "        if self.model:\n",
    "            y_pred = self.model.predict(X_test)\n",
    "            score = accuracy_score(y_test, y_pred)\n",
    "            print(colored(f\"model accuracy: {score}\", \"green\"))\n",
    "        else:\n",
    "            print(\"please train a model first using Trainer.run\")"
   ]
  },
  {
   "cell_type": "code",
   "execution_count": 36,
   "id": "bff7c19b",
   "metadata": {},
   "outputs": [
    {
     "name": "stdout",
     "output_type": "stream",
     "text": [
      "dropping rows of empty text\n",
      "preprocessing data\n",
      "setting pipeline\n",
      "vectorizing data and fitting model\n",
      "evaluating on test data\n",
      "\u001b[32mmodel accuracy: 0.828\u001b[0m\n",
      "\u001b[32mmodel.joblib saved locally\u001b[0m\n"
     ]
    }
   ],
   "source": [
    "df = get_cloud_data(nrows=1000)\n",
    "trainer = Trainer('text', 'label')\n",
    "trainer.run(df)\n",
    "trainer.save_model_locally(trainer.model)"
   ]
  },
  {
   "cell_type": "code",
   "execution_count": null,
   "id": "b2cd3cd3",
   "metadata": {},
   "outputs": [],
   "source": []
  }
 ],
 "metadata": {
  "kernelspec": {
   "display_name": "Python 3 (ipykernel)",
   "language": "python",
   "name": "python3"
  },
  "language_info": {
   "codemirror_mode": {
    "name": "ipython",
    "version": 3
   },
   "file_extension": ".py",
   "mimetype": "text/x-python",
   "name": "python",
   "nbconvert_exporter": "python",
   "pygments_lexer": "ipython3",
   "version": "3.8.12"
  },
  "toc": {
   "base_numbering": 1,
   "nav_menu": {},
   "number_sections": true,
   "sideBar": true,
   "skip_h1_title": false,
   "title_cell": "Table of Contents",
   "title_sidebar": "Contents",
   "toc_cell": false,
   "toc_position": {},
   "toc_section_display": true,
   "toc_window_display": false
  }
 },
 "nbformat": 4,
 "nbformat_minor": 5
}
