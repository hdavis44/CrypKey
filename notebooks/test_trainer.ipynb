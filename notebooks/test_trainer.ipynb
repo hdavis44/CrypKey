{
 "cells": [
  {
   "cell_type": "code",
   "execution_count": 4,
   "id": "97ceca42",
   "metadata": {},
   "outputs": [
    {
     "name": "stdout",
     "output_type": "stream",
     "text": [
      "The autoreload extension is already loaded. To reload it, use:\n",
      "  %reload_ext autoreload\n"
     ]
    }
   ],
   "source": [
    "%load_ext autoreload\n",
    "%autoreload 2"
   ]
  },
  {
   "cell_type": "code",
   "execution_count": 31,
   "id": "508bf75d",
   "metadata": {},
   "outputs": [],
   "source": [
    "%reload_ext autoreload"
   ]
  },
  {
   "cell_type": "code",
   "execution_count": 10,
   "id": "f90c8d1b",
   "metadata": {},
   "outputs": [],
   "source": [
    "import detecting_fake_news.trainer\n",
    "from detecting_fake_news.trainer import Trainer\n",
    "from detecting_fake_news.data import get_local_data, get_cloud_data, get_preprocessed_data"
   ]
  },
  {
   "cell_type": "markdown",
   "id": "8e5ae3a4",
   "metadata": {},
   "source": [
    "## contents of trainer.py"
   ]
  },
  {
   "cell_type": "markdown",
   "id": "2f5444eb",
   "metadata": {},
   "source": [
    "```python\n",
    "from os import path, pipe\n",
    "from detecting_fake_news.data import get_local_data, get_cloud_data, get_preprocessed_data\n",
    "from detecting_fake_news.preprocessing import TextPreprocessor\n",
    "from detecting_fake_news.params import BUCKET_NAME, BUCKET_TRAIN_DATA_PATH, LOCAL_TRAIN_DATA_PATH, PREPROCESSED_DATA_PATH\n",
    "from detecting_fake_news.gcp import storage_upload\n",
    "from sklearn.model_selection import train_test_split\n",
    "from sklearn.feature_extraction.text import CountVectorizer, TfidfVectorizer\n",
    "from sklearn.naive_bayes import MultinomialNB\n",
    "from sklearn.metrics import accuracy_score\n",
    "from sklearn.pipeline import Pipeline\n",
    "import joblib\n",
    "from termcolor import colored\n",
    "import pandas as pd\n",
    "import os\n",
    "\n",
    "\n",
    "\n",
    "\n",
    "class Trainer(object):\n",
    "    '''\n",
    "    The Trainer class fits trains, evaluates, and saves an NLP model.\n",
    "    The main method is Trainer.run.\n",
    "    When instantiating an instance of the Trainer class, the user provides two\n",
    "    positional arguments: X_col, and y_col.\n",
    "    The user may also create an instance with data already set i.e. data=df.\n",
    "    The user may also set the boolean keyword argument, preprocessed, to True if\n",
    "    they are instantiating a Trainer instance using a preprocessed dataframe.\n",
    "    '''\n",
    "    def __init__(self, X_col, y_col, data=None, preprocessed=False):\n",
    "        self.X_col = X_col\n",
    "        self.y_col = y_col\n",
    "        self.preprocessed = preprocessed\n",
    "\n",
    "        self.vectorizer = TfidfVectorizer()\n",
    "        self.model = MultinomialNB()\n",
    "        self.pipe = None\n",
    "        self.trained_model = None\n",
    "\n",
    "        self.data = data\n",
    "\n",
    "    def preprocess(self, new_line=True, punct=True, lower=True, accent=True,\n",
    "                   numbers=True, stemm=False, lemm=True, stop_words=True):\n",
    "        print(\"dropping rows of empty text\")\n",
    "        self.data = self.data.dropna(subset=[self.X_col])\n",
    "        X = self.data[self.X_col]\n",
    "        y = self.data[self.y_col]\n",
    "        preproc = TextPreprocessor(new_line=new_line, punct=punct, lower=lower,\n",
    "                                   accent=accent, numbers=numbers, stemm=stemm,\n",
    "                                   lemm=lemm, stop_words=stop_words)\n",
    "        print(\"preprocessing data with following parameters:\")\n",
    "        for k, v in vars(preproc).items():\n",
    "            if v == True:\n",
    "                print(f\"{k}, \", end='')\n",
    "        print('')\n",
    "        X_clean = preproc.transform(X)\n",
    "        self.data = pd.DataFrame({self.y_col: y, self.X_col: X_clean})\n",
    "        self.preprocessed = True\n",
    "\n",
    "    def set_pipeline(self):\n",
    "        '''resets self.pipe and self.trained_model to None then sets self.pipe'''\n",
    "        self.pipe = None\n",
    "        self.trained_model = None\n",
    "        pipe = Pipeline([('vectorizer', self.vectorizer),\n",
    "                         ('model', self.model)])\n",
    "        self.pipe = pipe\n",
    "\n",
    "    def run(self):\n",
    "        '''if self.data is not preprocessed, preprocesses according to params,\n",
    "           sets self.data to the preprocessed data, and splits self.data into train/test;\n",
    "           fits a pipeline to X_train, y_train; evaluates on X_test, y_test;\n",
    "           prints an accuracy score'''\n",
    "        if self.preprocessed == False:\n",
    "            self.preprocess()\n",
    "        X_clean = self.data[self.X_col]\n",
    "        y = self.data[self.y_col]\n",
    "        X_train, X_test, y_train, y_test = train_test_split(X_clean, y, test_size=0.25)\n",
    "        print(\"setting pipeline\")\n",
    "        self.set_pipeline()\n",
    "        print(\"vectorizing data and fitting model\")\n",
    "        self.trained_model = self.pipe.fit(X_train, y_train)\n",
    "        print(\"evaluating on test data\")\n",
    "        self.evaluate(X_test, y_test)\n",
    "\n",
    "    def evaluate(self, X_test, y_test):\n",
    "        '''predicts y_pred based on X_test and scores accuracy on y_test'''\n",
    "        if self.trained_model:\n",
    "            y_pred = self.trained_model.predict(X_test)\n",
    "            score = accuracy_score(y_test, y_pred)\n",
    "            print(colored(f\"model accuracy: {score}\", \"green\"))\n",
    "        else:\n",
    "            print(\"please train a model first using Trainer.run\")\n",
    "\n",
    "    def save_model_locally(self):\n",
    "        '''save self.trained_model into a .joblib format'''\n",
    "        if self.trained_model:\n",
    "            joblib.dump(self.trained_model, 'model.joblib')\n",
    "            print(colored(\"model.joblib saved locally\", \"green\"))\n",
    "        else:\n",
    "            print(\"please train a model first using Trainer.run\")\n",
    "\n",
    "    def save_preprocessed(self, data_file_name):\n",
    "        '''save a .csv file of preprocessed data in detecting_fake_news/data'''\n",
    "        abspath = os.path.join(PREPROCESSED_DATA_PATH, data_file_name)\n",
    "        if self.preprocessed:\n",
    "            self.data.to_csv(abspath, columns=[self.y_col, self.X_col], index=False)\n",
    "            print(colored(f\"{data_file_name} saved in {PREPROCESSED_DATA_PATH}\",\"green\"))\n",
    "        else:\n",
    "            print(colored(f\"preprocessed = {self.preprocessed} \\nplease preprocess before saving\",\"red\"))\n",
    "\n",
    "    def load_preprocessed(self, data_file_name, nrows=None):\n",
    "        '''load a .csv file of preprocessed data from detecting_fake_news/data'''\n",
    "        abspath = os.path.join(PREPROCESSED_DATA_PATH, data_file_name)\n",
    "        try:\n",
    "            self.data = pd.read_csv(abspath, nrows=nrows)\n",
    "            if nrows:\n",
    "                print(colored(f\"{nrows} rows loaded from {PREPROCESSED_DATA_PATH}/{data_file_name}\",\"green\"))\n",
    "            else:\n",
    "                print(colored(f\"data loaded from {PREPROCESSED_DATA_PATH}/{data_file_name}\",\"green\"))\n",
    "            self.preprocessed = True\n",
    "        except FileNotFoundError:\n",
    "            print(colored(f\"{data_file_name} not found in {PREPROCESSED_DATA_PATH}\",\"red\"))\n",
    "\n",
    "\n",
    "\n",
    "\n",
    "if __name__=='__main__':\n",
    "    df = get_cloud_data(nrows=3000)\n",
    "    trainer = Trainer('text', 'label' data=df)\n",
    "    trainer.run()\n",
    "    #trainer.save_model_locally(trainer.trained_model)\n",
    "    #storage_upload('models/MultinomialNB/model.joblib', 'model.joblib')\n",
    "```"
   ]
  },
  {
   "cell_type": "markdown",
   "id": "3f376720",
   "metadata": {},
   "source": [
    "## docstring and __init__ function"
   ]
  },
  {
   "cell_type": "raw",
   "id": "8005fdd7",
   "metadata": {},
   "source": [
    "class Trainer(object):\n",
    "    '''\n",
    "    The Trainer class fits trains, evaluates, and saves an NLP model.\n",
    "    The main method is Trainer.run.\n",
    "    When instantiating an instance of the Trainer class, the user provides two\n",
    "    positional arguments: X_col, and y_col.\n",
    "    The user may also create an instance with data already set i.e. data=df.\n",
    "    The user may also set the boolean keyword argument, preprocessed, to True if\n",
    "    they are instantiating a Trainer instance using a preprocessed dataframe.\n",
    "    '''\n",
    "    def __init__(self, X_col, y_col, data=None, preprocessed=False):\n",
    "        self.X_col = X_col\n",
    "        self.y_col = y_col\n",
    "        self.preprocessed = preprocessed\n",
    "\n",
    "        self.vectorizer = TfidfVectorizer()\n",
    "        self.model = MultinomialNB()\n",
    "        self.pipe = None\n",
    "        self.trained_model = None\n",
    "\n",
    "        self.data = data"
   ]
  },
  {
   "cell_type": "markdown",
   "id": "6cd99df4",
   "metadata": {},
   "source": [
    "## workflow examples"
   ]
  },
  {
   "cell_type": "markdown",
   "id": "bede9561",
   "metadata": {},
   "source": [
    "### using raw data"
   ]
  },
  {
   "cell_type": "code",
   "execution_count": 32,
   "id": "9a2ea279",
   "metadata": {},
   "outputs": [
    {
     "name": "stdout",
     "output_type": "stream",
     "text": [
      "\u001b[32m500 rows loaded from /home/henry/code/hdavis44/detecting_fake_news/raw_data/train.csv\u001b[0m\n"
     ]
    },
    {
     "data": {
      "text/html": [
       "<div>\n",
       "<style scoped>\n",
       "    .dataframe tbody tr th:only-of-type {\n",
       "        vertical-align: middle;\n",
       "    }\n",
       "\n",
       "    .dataframe tbody tr th {\n",
       "        vertical-align: top;\n",
       "    }\n",
       "\n",
       "    .dataframe thead th {\n",
       "        text-align: right;\n",
       "    }\n",
       "</style>\n",
       "<table border=\"1\" class=\"dataframe\">\n",
       "  <thead>\n",
       "    <tr style=\"text-align: right;\">\n",
       "      <th></th>\n",
       "      <th>id</th>\n",
       "      <th>title</th>\n",
       "      <th>author</th>\n",
       "      <th>text</th>\n",
       "      <th>label</th>\n",
       "    </tr>\n",
       "  </thead>\n",
       "  <tbody>\n",
       "    <tr>\n",
       "      <th>0</th>\n",
       "      <td>0</td>\n",
       "      <td>House Dem Aide: We Didn’t Even See Comey’s Let...</td>\n",
       "      <td>Darrell Lucus</td>\n",
       "      <td>House Dem Aide: We Didn’t Even See Comey’s Let...</td>\n",
       "      <td>1</td>\n",
       "    </tr>\n",
       "    <tr>\n",
       "      <th>1</th>\n",
       "      <td>1</td>\n",
       "      <td>FLYNN: Hillary Clinton, Big Woman on Campus - ...</td>\n",
       "      <td>Daniel J. Flynn</td>\n",
       "      <td>Ever get the feeling your life circles the rou...</td>\n",
       "      <td>0</td>\n",
       "    </tr>\n",
       "    <tr>\n",
       "      <th>2</th>\n",
       "      <td>2</td>\n",
       "      <td>Why the Truth Might Get You Fired</td>\n",
       "      <td>Consortiumnews.com</td>\n",
       "      <td>Why the Truth Might Get You Fired October 29, ...</td>\n",
       "      <td>1</td>\n",
       "    </tr>\n",
       "    <tr>\n",
       "      <th>3</th>\n",
       "      <td>3</td>\n",
       "      <td>15 Civilians Killed In Single US Airstrike Hav...</td>\n",
       "      <td>Jessica Purkiss</td>\n",
       "      <td>Videos 15 Civilians Killed In Single US Airstr...</td>\n",
       "      <td>1</td>\n",
       "    </tr>\n",
       "    <tr>\n",
       "      <th>4</th>\n",
       "      <td>4</td>\n",
       "      <td>Iranian woman jailed for fictional unpublished...</td>\n",
       "      <td>Howard Portnoy</td>\n",
       "      <td>Print \\nAn Iranian woman has been sentenced to...</td>\n",
       "      <td>1</td>\n",
       "    </tr>\n",
       "  </tbody>\n",
       "</table>\n",
       "</div>"
      ],
      "text/plain": [
       "   id                                              title              author  \\\n",
       "0   0  House Dem Aide: We Didn’t Even See Comey’s Let...       Darrell Lucus   \n",
       "1   1  FLYNN: Hillary Clinton, Big Woman on Campus - ...     Daniel J. Flynn   \n",
       "2   2                  Why the Truth Might Get You Fired  Consortiumnews.com   \n",
       "3   3  15 Civilians Killed In Single US Airstrike Hav...     Jessica Purkiss   \n",
       "4   4  Iranian woman jailed for fictional unpublished...      Howard Portnoy   \n",
       "\n",
       "                                                text  label  \n",
       "0  House Dem Aide: We Didn’t Even See Comey’s Let...      1  \n",
       "1  Ever get the feeling your life circles the rou...      0  \n",
       "2  Why the Truth Might Get You Fired October 29, ...      1  \n",
       "3  Videos 15 Civilians Killed In Single US Airstr...      1  \n",
       "4  Print \\nAn Iranian woman has been sentenced to...      1  "
      ]
     },
     "execution_count": 32,
     "metadata": {},
     "output_type": "execute_result"
    }
   ],
   "source": [
    "df = get_local_data(data_file_name='train.csv', nrows=500)\n",
    "df.head()"
   ]
  },
  {
   "cell_type": "code",
   "execution_count": 35,
   "id": "b8c163b2",
   "metadata": {},
   "outputs": [
    {
     "data": {
      "text/plain": [
       "{'X_col': 'text',\n",
       " 'y_col': 'label',\n",
       " 'preprocessed': False,\n",
       " 'vectorizer': TfidfVectorizer(),\n",
       " 'model': MultinomialNB(),\n",
       " 'pipe': None,\n",
       " 'trained_model': None,\n",
       " 'data': None}"
      ]
     },
     "execution_count": 35,
     "metadata": {},
     "output_type": "execute_result"
    }
   ],
   "source": [
    "# data is a keyword argument\n",
    "trainer = Trainer('text', 'label')\n",
    "vars(trainer)"
   ]
  },
  {
   "cell_type": "code",
   "execution_count": 36,
   "id": "e98aa216",
   "metadata": {
    "collapsed": true
   },
   "outputs": [
    {
     "data": {
      "text/plain": [
       "{'X_col': 'text',\n",
       " 'y_col': 'label',\n",
       " 'preprocessed': False,\n",
       " 'vectorizer': TfidfVectorizer(),\n",
       " 'model': MultinomialNB(),\n",
       " 'pipe': None,\n",
       " 'trained_model': None,\n",
       " 'data':       id                                              title  \\\n",
       " 0      0  House Dem Aide: We Didn’t Even See Comey’s Let...   \n",
       " 1      1  FLYNN: Hillary Clinton, Big Woman on Campus - ...   \n",
       " 2      2                  Why the Truth Might Get You Fired   \n",
       " 3      3  15 Civilians Killed In Single US Airstrike Hav...   \n",
       " 4      4  Iranian woman jailed for fictional unpublished...   \n",
       " ..   ...                                                ...   \n",
       " 495  495  Contaminated Food from China Now Entering the ...   \n",
       " 496  496  Ten Famous People on What to Read This Summer ...   \n",
       " 497  497  SCANDAL: EPA could have issued an emergency or...   \n",
       " 498  498  Hillary Clinton KNEW 5 years ago Anthony Weine...   \n",
       " 499  499  أوروبا وخيار القوة في مواجهة اللاجئين - RT Arabic   \n",
       " \n",
       "                                     author  \\\n",
       " 0                            Darrell Lucus   \n",
       " 1                          Daniel J. Flynn   \n",
       " 2                       Consortiumnews.com   \n",
       " 3                          Jessica Purkiss   \n",
       " 4                           Howard Portnoy   \n",
       " ..                                     ...   \n",
       " 495  noreply@blogger.com (Alexander Light)   \n",
       " 496                             T Magazine   \n",
       " 497                                    NaN   \n",
       " 498               The European Union Times   \n",
       " 499                                    NaN   \n",
       " \n",
       "                                                   text  label  \n",
       " 0    House Dem Aide: We Didn’t Even See Comey’s Let...      1  \n",
       " 1    Ever get the feeling your life circles the rou...      0  \n",
       " 2    Why the Truth Might Get You Fired October 29, ...      1  \n",
       " 3    Videos 15 Civilians Killed In Single US Airstr...      1  \n",
       " 4    Print \\nAn Iranian woman has been sentenced to...      1  \n",
       " ..                                                 ...    ...  \n",
       " 495  Contaminated Food from China Now Entering the ...      1  \n",
       " 496  For his bookshop and website One Grand Books, ...      0  \n",
       " 497  SCANDAL: EPA could have issued an emergency or...      1  \n",
       " 498  \\nA WikiLeak’s email released on Monday reveal...      1  \n",
       " 499  أوروبا وخيار القوة في مواجهة اللاجئين \\nتاريخ ...      1  \n",
       " \n",
       " [500 rows x 5 columns]}"
      ]
     },
     "execution_count": 36,
     "metadata": {},
     "output_type": "execute_result"
    }
   ],
   "source": [
    "trainer.data = df\n",
    "vars(trainer)"
   ]
  },
  {
   "cell_type": "code",
   "execution_count": 37,
   "id": "7d3054c8",
   "metadata": {
    "collapsed": true
   },
   "outputs": [
    {
     "data": {
      "text/plain": [
       "{'X_col': 'text',\n",
       " 'y_col': 'label',\n",
       " 'preprocessed': False,\n",
       " 'vectorizer': TfidfVectorizer(),\n",
       " 'model': MultinomialNB(),\n",
       " 'pipe': None,\n",
       " 'trained_model': None,\n",
       " 'data':       id                                              title  \\\n",
       " 0      0  House Dem Aide: We Didn’t Even See Comey’s Let...   \n",
       " 1      1  FLYNN: Hillary Clinton, Big Woman on Campus - ...   \n",
       " 2      2                  Why the Truth Might Get You Fired   \n",
       " 3      3  15 Civilians Killed In Single US Airstrike Hav...   \n",
       " 4      4  Iranian woman jailed for fictional unpublished...   \n",
       " ..   ...                                                ...   \n",
       " 495  495  Contaminated Food from China Now Entering the ...   \n",
       " 496  496  Ten Famous People on What to Read This Summer ...   \n",
       " 497  497  SCANDAL: EPA could have issued an emergency or...   \n",
       " 498  498  Hillary Clinton KNEW 5 years ago Anthony Weine...   \n",
       " 499  499  أوروبا وخيار القوة في مواجهة اللاجئين - RT Arabic   \n",
       " \n",
       "                                     author  \\\n",
       " 0                            Darrell Lucus   \n",
       " 1                          Daniel J. Flynn   \n",
       " 2                       Consortiumnews.com   \n",
       " 3                          Jessica Purkiss   \n",
       " 4                           Howard Portnoy   \n",
       " ..                                     ...   \n",
       " 495  noreply@blogger.com (Alexander Light)   \n",
       " 496                             T Magazine   \n",
       " 497                                    NaN   \n",
       " 498               The European Union Times   \n",
       " 499                                    NaN   \n",
       " \n",
       "                                                   text  label  \n",
       " 0    House Dem Aide: We Didn’t Even See Comey’s Let...      1  \n",
       " 1    Ever get the feeling your life circles the rou...      0  \n",
       " 2    Why the Truth Might Get You Fired October 29, ...      1  \n",
       " 3    Videos 15 Civilians Killed In Single US Airstr...      1  \n",
       " 4    Print \\nAn Iranian woman has been sentenced to...      1  \n",
       " ..                                                 ...    ...  \n",
       " 495  Contaminated Food from China Now Entering the ...      1  \n",
       " 496  For his bookshop and website One Grand Books, ...      0  \n",
       " 497  SCANDAL: EPA could have issued an emergency or...      1  \n",
       " 498  \\nA WikiLeak’s email released on Monday reveal...      1  \n",
       " 499  أوروبا وخيار القوة في مواجهة اللاجئين \\nتاريخ ...      1  \n",
       " \n",
       " [500 rows x 5 columns]}"
      ]
     },
     "execution_count": 37,
     "metadata": {},
     "output_type": "execute_result"
    }
   ],
   "source": [
    "# alternatively you can specify 'data=<your_data>' at instantiation:\n",
    "trainer = Trainer('text', 'label', data=df)\n",
    "vars(trainer)"
   ]
  },
  {
   "cell_type": "code",
   "execution_count": 39,
   "id": "322a0f91",
   "metadata": {},
   "outputs": [
    {
     "data": {
      "text/html": [
       "<div>\n",
       "<style scoped>\n",
       "    .dataframe tbody tr th:only-of-type {\n",
       "        vertical-align: middle;\n",
       "    }\n",
       "\n",
       "    .dataframe tbody tr th {\n",
       "        vertical-align: top;\n",
       "    }\n",
       "\n",
       "    .dataframe thead th {\n",
       "        text-align: right;\n",
       "    }\n",
       "</style>\n",
       "<table border=\"1\" class=\"dataframe\">\n",
       "  <thead>\n",
       "    <tr style=\"text-align: right;\">\n",
       "      <th></th>\n",
       "      <th>id</th>\n",
       "      <th>title</th>\n",
       "      <th>author</th>\n",
       "      <th>text</th>\n",
       "      <th>label</th>\n",
       "    </tr>\n",
       "  </thead>\n",
       "  <tbody>\n",
       "    <tr>\n",
       "      <th>0</th>\n",
       "      <td>0</td>\n",
       "      <td>House Dem Aide: We Didn’t Even See Comey’s Let...</td>\n",
       "      <td>Darrell Lucus</td>\n",
       "      <td>House Dem Aide: We Didn’t Even See Comey’s Let...</td>\n",
       "      <td>1</td>\n",
       "    </tr>\n",
       "    <tr>\n",
       "      <th>1</th>\n",
       "      <td>1</td>\n",
       "      <td>FLYNN: Hillary Clinton, Big Woman on Campus - ...</td>\n",
       "      <td>Daniel J. Flynn</td>\n",
       "      <td>Ever get the feeling your life circles the rou...</td>\n",
       "      <td>0</td>\n",
       "    </tr>\n",
       "    <tr>\n",
       "      <th>2</th>\n",
       "      <td>2</td>\n",
       "      <td>Why the Truth Might Get You Fired</td>\n",
       "      <td>Consortiumnews.com</td>\n",
       "      <td>Why the Truth Might Get You Fired October 29, ...</td>\n",
       "      <td>1</td>\n",
       "    </tr>\n",
       "    <tr>\n",
       "      <th>3</th>\n",
       "      <td>3</td>\n",
       "      <td>15 Civilians Killed In Single US Airstrike Hav...</td>\n",
       "      <td>Jessica Purkiss</td>\n",
       "      <td>Videos 15 Civilians Killed In Single US Airstr...</td>\n",
       "      <td>1</td>\n",
       "    </tr>\n",
       "    <tr>\n",
       "      <th>4</th>\n",
       "      <td>4</td>\n",
       "      <td>Iranian woman jailed for fictional unpublished...</td>\n",
       "      <td>Howard Portnoy</td>\n",
       "      <td>Print \\nAn Iranian woman has been sentenced to...</td>\n",
       "      <td>1</td>\n",
       "    </tr>\n",
       "  </tbody>\n",
       "</table>\n",
       "</div>"
      ],
      "text/plain": [
       "   id                                              title              author  \\\n",
       "0   0  House Dem Aide: We Didn’t Even See Comey’s Let...       Darrell Lucus   \n",
       "1   1  FLYNN: Hillary Clinton, Big Woman on Campus - ...     Daniel J. Flynn   \n",
       "2   2                  Why the Truth Might Get You Fired  Consortiumnews.com   \n",
       "3   3  15 Civilians Killed In Single US Airstrike Hav...     Jessica Purkiss   \n",
       "4   4  Iranian woman jailed for fictional unpublished...      Howard Portnoy   \n",
       "\n",
       "                                                text  label  \n",
       "0  House Dem Aide: We Didn’t Even See Comey’s Let...      1  \n",
       "1  Ever get the feeling your life circles the rou...      0  \n",
       "2  Why the Truth Might Get You Fired October 29, ...      1  \n",
       "3  Videos 15 Civilians Killed In Single US Airstr...      1  \n",
       "4  Print \\nAn Iranian woman has been sentenced to...      1  "
      ]
     },
     "execution_count": 39,
     "metadata": {},
     "output_type": "execute_result"
    }
   ],
   "source": [
    "trainer.data.head()"
   ]
  },
  {
   "cell_type": "code",
   "execution_count": 40,
   "id": "10278708",
   "metadata": {
    "scrolled": true
   },
   "outputs": [
    {
     "name": "stdout",
     "output_type": "stream",
     "text": [
      "dropping rows of empty text\n",
      "preprocessing data with following parameters:\n",
      "new_line, punct, lower, accent, numbers, lemm, stop_words, \n",
      "setting pipeline\n",
      "vectorizing data and fitting model\n",
      "evaluating on test data\n",
      "\u001b[32mmodel accuracy: 0.688\u001b[0m\n"
     ]
    }
   ],
   "source": [
    "# if you use Trainer.run on raw data, the data will be preprocessed with default parameters\n",
    "# then the trainer instance will have it's pipeline set, fit, and evaluated\n",
    "trainer.run()"
   ]
  },
  {
   "cell_type": "code",
   "execution_count": 58,
   "id": "a0edbfc2",
   "metadata": {},
   "outputs": [
    {
     "name": "stdout",
     "output_type": "stream",
     "text": [
      "\u001b[32m500 rows loaded from /home/henry/code/hdavis44/detecting_fake_news/raw_data/train.csv\u001b[0m\n",
      "dropping rows of empty text\n",
      "preprocessing data with following parameters:\n",
      "new_line, punct, lower, accent, numbers, stemm, stop_words, \n"
     ]
    }
   ],
   "source": [
    "# alternatively you can call Trainer.preprocess to specify your preprocessing parameters\n",
    "trainer = Trainer('text','label',data=get_local_data(data_file_name='train.csv', nrows=500))\n",
    "trainer.preprocess(stemm=True, lemm=False)"
   ]
  },
  {
   "cell_type": "code",
   "execution_count": 59,
   "id": "0113c977",
   "metadata": {},
   "outputs": [
    {
     "name": "stdout",
     "output_type": "stream",
     "text": [
      "setting pipeline\n",
      "vectorizing data and fitting model\n",
      "evaluating on test data\n",
      "\u001b[32mmodel accuracy: 0.528\u001b[0m\n"
     ]
    }
   ],
   "source": [
    "trainer.run()"
   ]
  },
  {
   "cell_type": "code",
   "execution_count": 41,
   "id": "0e68ee83",
   "metadata": {},
   "outputs": [],
   "source": [
    "# trainer.save_model_locally() '''save self.trained_model into a .joblib format'''"
   ]
  },
  {
   "cell_type": "code",
   "execution_count": 42,
   "id": "5d99b8ea",
   "metadata": {},
   "outputs": [],
   "source": [
    "# trainer.save_preprocessed(data_file_name) '''save a .csv file of preprocessed data in detecting_fake_news/data'''"
   ]
  },
  {
   "cell_type": "markdown",
   "id": "aec55f7b",
   "metadata": {},
   "source": [
    "### using preprocessed data"
   ]
  },
  {
   "cell_type": "code",
   "execution_count": null,
   "id": "ceb47ff8",
   "metadata": {},
   "outputs": [],
   "source": [
    "# trainer.load_preprocessed(data_file_name, nrows=None) \n",
    "# '''load a .csv file of preprocessed data from detecting_fake_news/data'''"
   ]
  },
  {
   "cell_type": "code",
   "execution_count": 55,
   "id": "469d78a7",
   "metadata": {},
   "outputs": [
    {
     "name": "stdout",
     "output_type": "stream",
     "text": [
      "\u001b[32mdata loaded from /home/henry/code/hdavis44/detecting_fake_news/detecting_fake_news/data/experiment.csv\u001b[0m\n",
      "preprocessed: True\n"
     ]
    },
    {
     "data": {
      "text/html": [
       "<div>\n",
       "<style scoped>\n",
       "    .dataframe tbody tr th:only-of-type {\n",
       "        vertical-align: middle;\n",
       "    }\n",
       "\n",
       "    .dataframe tbody tr th {\n",
       "        vertical-align: top;\n",
       "    }\n",
       "\n",
       "    .dataframe thead th {\n",
       "        text-align: right;\n",
       "    }\n",
       "</style>\n",
       "<table border=\"1\" class=\"dataframe\">\n",
       "  <thead>\n",
       "    <tr style=\"text-align: right;\">\n",
       "      <th></th>\n",
       "      <th>label</th>\n",
       "      <th>text</th>\n",
       "    </tr>\n",
       "  </thead>\n",
       "  <tbody>\n",
       "    <tr>\n",
       "      <th>0</th>\n",
       "      <td>1</td>\n",
       "      <td>house dem aide even see comey letter jason cha...</td>\n",
       "    </tr>\n",
       "    <tr>\n",
       "      <th>1</th>\n",
       "      <td>0</td>\n",
       "      <td>ever get feeling life circle roundabout rather...</td>\n",
       "    </tr>\n",
       "    <tr>\n",
       "      <th>2</th>\n",
       "      <td>1</td>\n",
       "      <td>truth might get fired october tension intellig...</td>\n",
       "    </tr>\n",
       "    <tr>\n",
       "      <th>3</th>\n",
       "      <td>1</td>\n",
       "      <td>video civilian killed single u airstrike ident...</td>\n",
       "    </tr>\n",
       "    <tr>\n",
       "      <th>4</th>\n",
       "      <td>1</td>\n",
       "      <td>print iranian woman ha sentenced six year pris...</td>\n",
       "    </tr>\n",
       "  </tbody>\n",
       "</table>\n",
       "</div>"
      ],
      "text/plain": [
       "   label                                               text\n",
       "0      1  house dem aide even see comey letter jason cha...\n",
       "1      0  ever get feeling life circle roundabout rather...\n",
       "2      1  truth might get fired october tension intellig...\n",
       "3      1  video civilian killed single u airstrike ident...\n",
       "4      1  print iranian woman ha sentenced six year pris..."
      ]
     },
     "execution_count": 55,
     "metadata": {},
     "output_type": "execute_result"
    }
   ],
   "source": [
    "# you can instantiate the Trainer class without data and use the trainer.load_preprocessed method\n",
    "trainer = Trainer('text', 'label')\n",
    "trainer.load_preprocessed('experiment.csv')\n",
    "print(f\"preprocessed: {trainer.preprocessed}\")\n",
    "trainer.data.head()"
   ]
  },
  {
   "cell_type": "code",
   "execution_count": 57,
   "id": "abd67ff9",
   "metadata": {},
   "outputs": [
    {
     "name": "stdout",
     "output_type": "stream",
     "text": [
      "\u001b[32mdata loaded from /home/henry/code/hdavis44/detecting_fake_news/detecting_fake_news/data/experiment.csv\u001b[0m\n",
      "preprocessed: True\n"
     ]
    },
    {
     "data": {
      "text/html": [
       "<div>\n",
       "<style scoped>\n",
       "    .dataframe tbody tr th:only-of-type {\n",
       "        vertical-align: middle;\n",
       "    }\n",
       "\n",
       "    .dataframe tbody tr th {\n",
       "        vertical-align: top;\n",
       "    }\n",
       "\n",
       "    .dataframe thead th {\n",
       "        text-align: right;\n",
       "    }\n",
       "</style>\n",
       "<table border=\"1\" class=\"dataframe\">\n",
       "  <thead>\n",
       "    <tr style=\"text-align: right;\">\n",
       "      <th></th>\n",
       "      <th>label</th>\n",
       "      <th>text</th>\n",
       "    </tr>\n",
       "  </thead>\n",
       "  <tbody>\n",
       "    <tr>\n",
       "      <th>0</th>\n",
       "      <td>1</td>\n",
       "      <td>house dem aide even see comey letter jason cha...</td>\n",
       "    </tr>\n",
       "    <tr>\n",
       "      <th>1</th>\n",
       "      <td>0</td>\n",
       "      <td>ever get feeling life circle roundabout rather...</td>\n",
       "    </tr>\n",
       "    <tr>\n",
       "      <th>2</th>\n",
       "      <td>1</td>\n",
       "      <td>truth might get fired october tension intellig...</td>\n",
       "    </tr>\n",
       "    <tr>\n",
       "      <th>3</th>\n",
       "      <td>1</td>\n",
       "      <td>video civilian killed single u airstrike ident...</td>\n",
       "    </tr>\n",
       "    <tr>\n",
       "      <th>4</th>\n",
       "      <td>1</td>\n",
       "      <td>print iranian woman ha sentenced six year pris...</td>\n",
       "    </tr>\n",
       "  </tbody>\n",
       "</table>\n",
       "</div>"
      ],
      "text/plain": [
       "   label                                               text\n",
       "0      1  house dem aide even see comey letter jason cha...\n",
       "1      0  ever get feeling life circle roundabout rather...\n",
       "2      1  truth might get fired october tension intellig...\n",
       "3      1  video civilian killed single u airstrike ident...\n",
       "4      1  print iranian woman ha sentenced six year pris..."
      ]
     },
     "execution_count": 57,
     "metadata": {},
     "output_type": "execute_result"
    }
   ],
   "source": [
    "# alternatively you can get preprocessed data and instantiate Trainer using it\n",
    "\n",
    "# !! if you use this method remember to set preprocessed=True or the Trainer.run function will preprocess again !!\n",
    "\n",
    "df = get_preprocessed_data('experiment.csv')\n",
    "trainer = Trainer('text', 'label', data=df, preprocessed=True)\n",
    "print(f\"preprocessed: {trainer.preprocessed}\")\n",
    "trainer.data.head()"
   ]
  },
  {
   "cell_type": "code",
   "execution_count": 25,
   "id": "74fd5d61",
   "metadata": {},
   "outputs": [],
   "source": [
    "# trainer.save_model_locally() '''save self.trained_model into a .joblib format'''"
   ]
  },
  {
   "cell_type": "code",
   "execution_count": 26,
   "id": "26dc26ad",
   "metadata": {},
   "outputs": [],
   "source": [
    "# trainer.save_preprocessed(data_file_name) '''save a .csv file of preprocessed data in detecting_fake_news/data'''"
   ]
  },
  {
   "cell_type": "code",
   "execution_count": null,
   "id": "bc12cab8",
   "metadata": {},
   "outputs": [],
   "source": []
  }
 ],
 "metadata": {
  "kernelspec": {
   "display_name": "Python 3 (ipykernel)",
   "language": "python",
   "name": "python3"
  },
  "language_info": {
   "codemirror_mode": {
    "name": "ipython",
    "version": 3
   },
   "file_extension": ".py",
   "mimetype": "text/x-python",
   "name": "python",
   "nbconvert_exporter": "python",
   "pygments_lexer": "ipython3",
   "version": "3.8.12"
  },
  "nbTranslate": {
   "displayLangs": [
    "*"
   ],
   "hotkey": "alt-t",
   "langInMainMenu": true,
   "sourceLang": "en",
   "targetLang": "fr",
   "useGoogleTranslate": true
  },
  "toc": {
   "base_numbering": 1,
   "nav_menu": {},
   "number_sections": true,
   "sideBar": true,
   "skip_h1_title": false,
   "title_cell": "Table of Contents",
   "title_sidebar": "Contents",
   "toc_cell": false,
   "toc_position": {},
   "toc_section_display": true,
   "toc_window_display": false
  }
 },
 "nbformat": 4,
 "nbformat_minor": 5
}
